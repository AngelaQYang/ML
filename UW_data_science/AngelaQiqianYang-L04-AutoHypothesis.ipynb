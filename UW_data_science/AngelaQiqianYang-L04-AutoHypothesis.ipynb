{
 "cells": [
  {
   "cell_type": "markdown",
   "metadata": {},
   "source": [
    "# Lesson 4 Assignment - Automobile Price Hypothesis Testing\n",
    "## Author - Studentname"
   ]
  },
  {
   "cell_type": "markdown",
   "metadata": {},
   "source": [
    "### Instructions\n",
    "Test hypotheses for the price of automobiles:\n",
    "\n",
    "1. Compare and test the normality of the distributions of **price** and **log price**. <br/>\n",
    "Use both a graphical method and a formal test. Hint: remember these relationships will always be approximate.\n",
    "\n",
    "2. Test significance of **price (or log price)** stratified by \n",
    "a) **fuel type**, b) **aspiration**, and c) **rear vs. front wheel drive**. <br />Use both graphical methods and the formal test.\n",
    "\n",
    "3. Apply ANOVA and Tukey's HSD test to the auto price data to compare the **price (or log price** if closer to a normal distribution) of autos stratified by **body style**.\n",
    "\n",
    "4. Graphically explore the differences between the price conditioned by the categories of each variable. <br/>\n",
    "Hint: Make sure you have enough data for each category and drop categories with insufficient data.\n",
    "\n",
    "5. Use standard ANOVA and Tukey HSD to test the differences of these groups.\n"
   ]
  },
  {
   "cell_type": "markdown",
   "metadata": {},
   "source": [
    "### My Answer \n",
    "#### My main conclusions are <font color='red'> all highlighted in red color. <font>"
   ]
  },
  {
   "cell_type": "code",
   "execution_count": 188,
   "metadata": {},
   "outputs": [],
   "source": [
    "# Import libraries\n",
    "import pandas as pd \n",
    "import numpy as np \n",
    "\n",
    "from statistics import mean\n",
    "from scipy import stats\n",
    "import scipy.stats as ss\n",
    "import statsmodels.stats.weightstats as ws\n",
    "import statsmodels.stats.power as ssp #ANOVA\n",
    "from statsmodels.stats.multicomp import pairwise_tukeyhsd # turkey HSD test\n",
    "\n",
    "import matplotlib.pyplot as plt\n",
    "import seaborn as sns\n",
    "%matplotlib inline"
   ]
  },
  {
   "cell_type": "markdown",
   "metadata": {},
   "source": [
    "### Data Preparation"
   ]
  },
  {
   "cell_type": "markdown",
   "metadata": {},
   "source": [
    "##### Read in Data "
   ]
  },
  {
   "cell_type": "code",
   "execution_count": 3,
   "metadata": {},
   "outputs": [],
   "source": [
    "# Cleaned up Dataset location\n",
    "fileName = \"https://library.startlearninglabs.uw.edu/DATASCI410/Datasets/Automobile%20price%20data%20_Raw_.csv\""
   ]
  },
  {
   "cell_type": "code",
   "execution_count": 168,
   "metadata": {},
   "outputs": [],
   "source": [
    "my_df = pd.read_csv(fileName)"
   ]
  },
  {
   "cell_type": "markdown",
   "metadata": {},
   "source": [
    "##### Imputing Missing Data "
   ]
  },
  {
   "cell_type": "code",
   "execution_count": 170,
   "metadata": {},
   "outputs": [
    {
     "data": {
      "text/plain": [
       "symboling             0\n",
       "normalized-losses    41\n",
       "make                  0\n",
       "fuel-type             0\n",
       "aspiration            0\n",
       "num-of-doors          2\n",
       "body-style            0\n",
       "drive-wheels          0\n",
       "engine-location       0\n",
       "wheel-base            0\n",
       "length                0\n",
       "width                 0\n",
       "height                0\n",
       "curb-weight           0\n",
       "engine-type           0\n",
       "num-of-cylinders      0\n",
       "engine-size           0\n",
       "fuel-system           0\n",
       "bore                  4\n",
       "stroke                4\n",
       "compression-ratio     0\n",
       "horsepower            2\n",
       "peak-rpm              2\n",
       "city-mpg              0\n",
       "highway-mpg           0\n",
       "price                 4\n",
       "dtype: int64"
      ]
     },
     "execution_count": 170,
     "metadata": {},
     "output_type": "execute_result"
    }
   ],
   "source": [
    "# look up missing values, and get to know data types of them\n",
    "my_df = my_df.replace(to_replace=\"?\", value=float(\"NaN\"))\n",
    "my_df.isnull().sum()"
   ]
  },
  {
   "cell_type": "code",
   "execution_count": 171,
   "metadata": {},
   "outputs": [],
   "source": [
    "# for ['normalized-losses'], 40 out of 205 rows has null value.\n",
    "# 25% of data has missing value, so I decided to impute missing value to median value \n",
    "my_df.loc[:, 'normalized-losses'] = pd.to_numeric(my_df.loc[:, 'normalized-losses'], errors='coerce')\n",
    "HasNan = np.isnan(my_df.loc[:,'normalized-losses'])\n",
    "my_df.loc[HasNan, 'normalized-losses'] = np.nanmedian(my_df.loc[:,'normalized-losses'])"
   ]
  },
  {
   "cell_type": "code",
   "execution_count": 172,
   "metadata": {},
   "outputs": [],
   "source": [
    "# drop other columns, which doesn't occupy lots rows\n",
    "my_df = my_df.dropna(axis=0)"
   ]
  },
  {
   "cell_type": "markdown",
   "metadata": {},
   "source": [
    "##### Data Type Manipulation"
   ]
  },
  {
   "cell_type": "code",
   "execution_count": 173,
   "metadata": {},
   "outputs": [
    {
     "data": {
      "text/plain": [
       "symboling              int64\n",
       "normalized-losses    float64\n",
       "make                  object\n",
       "fuel-type             object\n",
       "aspiration            object\n",
       "num-of-doors          object\n",
       "body-style            object\n",
       "drive-wheels          object\n",
       "engine-location       object\n",
       "wheel-base           float64\n",
       "length               float64\n",
       "width                float64\n",
       "height               float64\n",
       "curb-weight            int64\n",
       "engine-type           object\n",
       "num-of-cylinders      object\n",
       "engine-size            int64\n",
       "fuel-system           object\n",
       "bore                  object\n",
       "stroke                object\n",
       "compression-ratio    float64\n",
       "horsepower            object\n",
       "peak-rpm              object\n",
       "city-mpg               int64\n",
       "highway-mpg            int64\n",
       "price                 object\n",
       "dtype: object"
      ]
     },
     "execution_count": 173,
     "metadata": {},
     "output_type": "execute_result"
    }
   ],
   "source": [
    "my_df.dtypes"
   ]
  },
  {
   "cell_type": "code",
   "execution_count": 174,
   "metadata": {},
   "outputs": [],
   "source": [
    "my_df['price'] = my_df['price'].astype(int)\n",
    "my_df['horsepower'] = my_df['horsepower'].astype(int)"
   ]
  },
  {
   "cell_type": "markdown",
   "metadata": {},
   "source": [
    "##### Compute Log Price Value "
   ]
  },
  {
   "cell_type": "code",
   "execution_count": 175,
   "metadata": {},
   "outputs": [],
   "source": [
    "my_df['price_log'] = np.log(my_df['price'])"
   ]
  },
  {
   "cell_type": "markdown",
   "metadata": {},
   "source": [
    "## Task 1. Compare and Test Normality on ['price'] and ['price_log']\n",
    "**[ Guide to my answer ]**: I will apply graphical and mathmatical method to test whether price / price log is a normal distribution. I break down the math methods to two kind of test. One is evaluating the 5% cut off directly. The other is evaluating P value, by appling Shapiro-Wilk test.  "
   ]
  },
  {
   "cell_type": "markdown",
   "metadata": {},
   "source": [
    "### 1.1 Price Log "
   ]
  },
  {
   "cell_type": "markdown",
   "metadata": {},
   "source": [
    "From historagm plot below, we can see a Gaussian-like shape to the price log data, that although is not strongly the familiar bell-shape, is a rough approximation. Now we make a null hypothesis, assuming the distribution of price log is a normal distribution. Then we calculate the 5% cutoff threshold from the expected normal distribution, compared it with the real 5% cutoff from dataset. If the expected cutoff is smaller than real cutoff, we can't reject our H0.  Conclusion: It is failled reject the hypothesis. \n",
    "#### <font color = 'red'> The log of price does have a normal distribution<font/>"
   ]
  },
  {
   "cell_type": "code",
   "execution_count": 63,
   "metadata": {},
   "outputs": [],
   "source": [
    "mean_price_log = my_df['price_log'].mean()\n",
    "std_price_log = my_df['price_log'].std()"
   ]
  },
  {
   "cell_type": "code",
   "execution_count": null,
   "metadata": {},
   "outputs": [],
   "source": [
    "def hist_plot(vec, bins):\n",
    "    plt.hist(vec, bins = bins)\n",
    "    plt.axvline(mean(vec), color = 'red')\n",
    "    plt.ylabel('Frequency')\n",
    "    plt.xlabel('Value')"
   ]
  },
  {
   "cell_type": "code",
   "execution_count": 54,
   "metadata": {},
   "outputs": [
    {
     "data": {
      "image/png": "[encoded data removed]",
      "text/plain": [
       "<Figure size 432x288 with 1 Axes>"
      ]
     },
     "metadata": {},
     "output_type": "display_data"
    }
   ],
   "source": [
    "hist_plot(my_df['price_log'], 20)"
   ]
  },
  {
   "cell_type": "code",
   "execution_count": 66,
   "metadata": {},
   "outputs": [],
   "source": [
    "# test the Pvalue and normalization \n",
    "def cutoff_stat(alpha, mean=0, sd=1, one_tailed=True):\n",
    "    from scipy.stats import norm\n",
    "    if((alpha > 0.0) & (alpha < 1.0)):\n",
    "        if(one_tailed):\n",
    "            return(norm.ppf(1.0 - alpha, loc=mean, scale=sd))\n",
    "        else:\n",
    "            return(norm.ppf(1.0 - alpha/2.0, loc=mean, scale=sd))\n",
    "    else:   \n",
    "        print('alpha must be btween 0 and 1')"
   ]
  },
  {
   "cell_type": "code",
   "execution_count": 67,
   "metadata": {},
   "outputs": [
    {
     "name": "stdout",
     "output_type": "stream",
     "text": [
      "Sample looks Gaussian (fail to reject H0)\n"
     ]
    }
   ],
   "source": [
    "# the H0 expected cutoff \n",
    "expected_cutoff = cutoff_stat(0.05, mean = mean_price_log, sd = std_price_log)\n",
    "# the real cutoff \n",
    "real_cutoff = mean_price_log+ 2.5*(std_price_log)\n",
    "if real_cutoff > expected_cutoff:\n",
    "    print('Sample looks Gaussian (fail to reject H0)')\n",
    "else:\n",
    "    print('Sample does not look Gaussian (reject H0)')\n"
   ]
  },
  {
   "cell_type": "markdown",
   "metadata": {},
   "source": [
    "### 1.2 Price"
   ]
  },
  {
   "cell_type": "markdown",
   "metadata": {},
   "source": [
    "Below is another graphic, considering price histogram plots. It doesn't look like a bell shape distribution. But we will make the null hypothesis, considering the distribution is normal anyways. Then we apply Shapiro-Wilk test method to exam H0.  Our hope is to reject the null hypothesis. We did reject the H0. \n",
    "##### <font color='red'> The price value doesn't have a normal distribution. "
   ]
  },
  {
   "cell_type": "code",
   "execution_count": 55,
   "metadata": {},
   "outputs": [
    {
     "data": {
      "image/png": "[encoded data removed]",
      "text/plain": [
       "<Figure size 432x288 with 1 Axes>"
      ]
     },
     "metadata": {},
     "output_type": "display_data"
    }
   ],
   "source": [
    "hist_plot(my_df['price'], 20)"
   ]
  },
  {
   "cell_type": "code",
   "execution_count": 65,
   "metadata": {},
   "outputs": [
    {
     "name": "stdout",
     "output_type": "stream",
     "text": [
      "Statistics=0.801, p=0.000\n",
      "Sample does not look Gaussian (reject H0)\n"
     ]
    }
   ],
   "source": [
    "from scipy.stats import shapiro\n",
    "# normality test\n",
    "stat, p = shapiro(my_df['price'])\n",
    "print('Statistics=%.3f, p=%.3f' % (stat, p))\n",
    "# interpret\n",
    "alpha = 0.05\n",
    "if p > alpha:\n",
    "    print('Sample looks Gaussian (fail to reject H0)')\n",
    "else:\n",
    "    print('Sample does not look Gaussian (reject H0)')"
   ]
  },
  {
   "cell_type": "code",
   "execution_count": null,
   "metadata": {},
   "outputs": [],
   "source": []
  },
  {
   "cell_type": "markdown",
   "metadata": {},
   "source": [
    "## Task 2. Test significance of ['price']\n",
    "**[ Guide to my answer ]**: The task is to test the siginificance of price, tratified by fuel type, aspiration, and rear vs. front wheel drive. I choose price over price log is because the statistic results (e.g. mean, std) of price itself are more straight forward to interpret. I stratefied sample over 10% of data, apply t test over 95% confidence interval, to compare different variables. "
   ]
  },
  {
   "cell_type": "code",
   "execution_count": 155,
   "metadata": {},
   "outputs": [],
   "source": [
    "# Define functions for t test, chi test, and plot t test. \n",
    "def t_test(a, b, alpha, alternative='two-sided'):    \n",
    "    diff = a.mean() - b.mean()\n",
    "    res = ss.ttest_ind(a, b)\n",
    "    means = ws.CompareMeans(ws.DescrStatsW(a), ws.DescrStatsW(b))\n",
    "    confint = means.tconfint_diff(alpha=alpha, alternative=alternative, usevar='unequal') \n",
    "    degfree = means.dof_satt()\n",
    "    index = ['DegFreedom', 'Difference', 'Statistic', 'PValue', 'Low95CI', 'High95CI']\n",
    "    return pd.Series([degfree, diff, res[0], res[1], confint[0], confint[1]], index = index) \n",
    "\n",
    "def hist_mean_ci(vec, t_test, bins):\n",
    "    upper = mean(vec) + t_test[5] - t_test[1]\n",
    "    lower = mean(vec) + t_test[4] - t_test[1]\n",
    "    plt.hist(vec, bins = bins)\n",
    "    plt.axvline(mean(vec), color = 'red')\n",
    "    plt.axvline(upper, color = 'red', linestyle='--')\n",
    "    plt.axvline(lower, color = 'red', linestyle='--')\n",
    "    plt.ylabel('Frequency')\n",
    "    plt.xlabel('Price')\n",
    "\n",
    "def plot_t(a, b, t_test, cols, nbins = 20):\n",
    "    minx = min([min(a), min(b)])\n",
    "    maxx = max([max(a), max(b)])\n",
    "    stepx = (maxx - minx)/(nbins + 1)\n",
    "    bins = [minx + i * stepx for i in range(nbins + 1)]\n",
    "    plt.subplot(2, 1, 1) # The first plot\n",
    "    hist_mean_ci(a, t_test, bins)\n",
    "    plt.title('Histogram of ' + cols[0] + ' and ' + cols[1])\n",
    "    plt.subplot(2, 1, 2) # The next plot\n",
    "    hist_plot(b, bins)"
   ]
  },
  {
   "cell_type": "code",
   "execution_count": 156,
   "metadata": {},
   "outputs": [],
   "source": [
    "# Create a data frame with the counts and the means of the groups\n",
    "def count_mean(data, strat_name):\n",
    "    groups = data.groupby(strat_name) # Create the groups\n",
    "    return pd.DataFrame({'count': groups.size(), \n",
    "                        'mean': groups.aggregate(np.mean).loc[:, 'price']})\n",
    "# Create stratified group\n",
    "def stratify(data, p, strat_name):\n",
    "    groups = data.groupby(strat_name) # Create the groups\n",
    "    nums = min(groups.size()) # Find the size of the smallest group\n",
    "    num = int(p * data.shape[0]) # Compute the desired number of samples per group\n",
    "    if num <= nums: # If sufficient group size, sample each group and return. \n",
    "        return groups.apply(lambda x: x.sample(n=num))\n",
    "    else: # Oops. p is to large\n",
    "        pmax = nums / data.shape[0]\n",
    "        print('The maximum value of p = ' + str(pmax))"
   ]
  },
  {
   "cell_type": "markdown",
   "metadata": {},
   "source": [
    "#### 2.1 Fuel Type \n",
    "The null hypothesis here is: The fuel type won't significantly impact the auto price. From the t-test and graphic plopts below:\n",
    "1. Difference in means is $2000+, I believe it is not a large number giving the auto price range. \n",
    "2. The t-statistic is small and the p-value is large. Therefore, there is a high chance that the difference in means is from random variation alone. \n",
    "3. The mean of the fuel type (gas) in the lower plot is within the confidence interval of the difference of means of the fuel types. \n",
    "\n",
    "##### <font color='red'>Conclusion: This confirms that we cannot reject the null hypothesis that there is no significant difference in these means. <font/> "
   ]
  },
  {
   "cell_type": "code",
   "execution_count": 157,
   "metadata": {},
   "outputs": [
    {
     "name": "stdout",
     "output_type": "stream",
     "text": [
      "number of rows for the stratefied sample is:  38\n"
     ]
    },
    {
     "name": "stderr",
     "output_type": "stream",
     "text": [
      "c:\\users\\sduya\\appdata\\local\\programs\\python\\python37-32\\lib\\site-packages\\ipykernel_launcher.py:3: FutureWarning: 'fuel-type' is both an index level and a column label.\n",
      "Defaulting to column, but this will raise an ambiguity error in a future version\n",
      "  This is separate from the ipykernel package so we can avoid doing imports until\n"
     ]
    },
    {
     "data": {
      "text/html": [
       "<div>\n",
       "<style scoped>\n",
       "    .dataframe tbody tr th:only-of-type {\n",
       "        vertical-align: middle;\n",
       "    }\n",
       "\n",
       "    .dataframe tbody tr th {\n",
       "        vertical-align: top;\n",
       "    }\n",
       "\n",
       "    .dataframe thead th {\n",
       "        text-align: right;\n",
       "    }\n",
       "</style>\n",
       "<table border=\"1\" class=\"dataframe\">\n",
       "  <thead>\n",
       "    <tr style=\"text-align: right;\">\n",
       "      <th></th>\n",
       "      <th>count</th>\n",
       "      <th>mean</th>\n",
       "    </tr>\n",
       "    <tr>\n",
       "      <th>fuel-type</th>\n",
       "      <th></th>\n",
       "      <th></th>\n",
       "    </tr>\n",
       "  </thead>\n",
       "  <tbody>\n",
       "    <tr>\n",
       "      <th>diesel</th>\n",
       "      <td>19</td>\n",
       "      <td>16103.578947</td>\n",
       "    </tr>\n",
       "    <tr>\n",
       "      <th>gas</th>\n",
       "      <td>19</td>\n",
       "      <td>12234.052632</td>\n",
       "    </tr>\n",
       "  </tbody>\n",
       "</table>\n",
       "</div>"
      ],
      "text/plain": [
       "           count          mean\n",
       "fuel-type                     \n",
       "diesel        19  16103.578947\n",
       "gas           19  12234.052632"
      ]
     },
     "execution_count": 157,
     "metadata": {},
     "output_type": "execute_result"
    }
   ],
   "source": [
    "# I will use 10% of data to test the significance on fuel types\n",
    "p = 0.1\n",
    "stratified_fuel = stratify(my_df, p, 'fuel-type')\n",
    "print ('number of rows for the stratefied sample is: ', len(stratified_fuel))\n",
    "count_mean(stratified_fuel, 'fuel-type')"
   ]
  },
  {
   "cell_type": "code",
   "execution_count": 158,
   "metadata": {
    "scrolled": true
   },
   "outputs": [],
   "source": [
    "diesel = np.array(stratified_fuel.loc[stratified_fuel.loc[:, 'fuel-type'] == 'diesel', 'price'])\n",
    "gas = np.array(stratified_fuel.loc[stratified_fuel.loc[:, 'fuel-type'] == 'gas', 'price'])"
   ]
  },
  {
   "cell_type": "code",
   "execution_count": 159,
   "metadata": {},
   "outputs": [
    {
     "name": "stdout",
     "output_type": "stream",
     "text": [
      "DegFreedom      34.194471\n",
      "Difference    3869.526316\n",
      "Statistic        1.328536\n",
      "PValue           0.192362\n",
      "Low95CI      -2048.398149\n",
      "High95CI      9787.450780\n",
      "dtype: float64\n"
     ]
    },
    {
     "data": {
      "image/png": "[encoded data removed]",
      "text/plain": [
       "<Figure size 432x288 with 2 Axes>"
      ]
     },
     "metadata": {},
     "output_type": "display_data"
    }
   ],
   "source": [
    "test_fuel = t_test(diesel, gas, alpha = 0.05) # 95% confidence interval\n",
    "print(test_fuel)\n",
    "plot_t(diesel, gas, test_fuel, ['diesel', 'gas'])   "
   ]
  },
  {
   "cell_type": "markdown",
   "metadata": {},
   "source": [
    "#### 2.2 Aspiration\n",
    "Null hypothesis for aspiration test would be: the aspiration type won't impact auto price significantly. Examine the t-test results below and I find:\n",
    "1. Vehicles with standard aspiration are priced, in average, $3000 lower than turbo. I consider this price difference is not significant large. \n",
    "2. P-value is 0.21. It is small but not small enough to reject the H0. \n",
    "3. tubor car felling within the 95 percentage of standard car's confidence interval. It also means we can not reject the null hypothesis.\n",
    "\n",
    "##### <font color = 'red'> Conclusion: Aspiration won't have signicant impact on auto price. "
   ]
  },
  {
   "cell_type": "code",
   "execution_count": 152,
   "metadata": {},
   "outputs": [
    {
     "name": "stdout",
     "output_type": "stream",
     "text": [
      "number of rows for the stratefied sample is:  38\n",
      "            count          mean\n",
      "aspiration                     \n",
      "std            19  11605.631579\n",
      "turbo          19  14529.473684\n"
     ]
    },
    {
     "name": "stderr",
     "output_type": "stream",
     "text": [
      "c:\\users\\sduya\\appdata\\local\\programs\\python\\python37-32\\lib\\site-packages\\ipykernel_launcher.py:3: FutureWarning: 'aspiration' is both an index level and a column label.\n",
      "Defaulting to column, but this will raise an ambiguity error in a future version\n",
      "  This is separate from the ipykernel package so we can avoid doing imports until\n"
     ]
    }
   ],
   "source": [
    "p = 0.1\n",
    "stratified_aspiration = stratify(my_df, p, 'aspiration')\n",
    "print ('number of rows for the stratefied sample is: ', len(stratified_aspiration))\n",
    "print (count_mean(stratified_aspiration, 'aspiration'))"
   ]
  },
  {
   "cell_type": "code",
   "execution_count": 160,
   "metadata": {},
   "outputs": [
    {
     "name": "stdout",
     "output_type": "stream",
     "text": [
      "DegFreedom      30.523215\n",
      "Difference   -2923.842105\n",
      "Statistic       -1.253734\n",
      "PValue           0.218019\n",
      "Low95CI      -7683.217867\n",
      "High95CI      1835.533657\n",
      "dtype: float64\n"
     ]
    },
    {
     "data": {
      "image/png": "[encoded data removed]",
      "text/plain": [
       "<Figure size 432x288 with 2 Axes>"
      ]
     },
     "metadata": {},
     "output_type": "display_data"
    }
   ],
   "source": [
    "std = np.array(stratified_aspiration.loc[stratified_aspiration.loc[:, 'aspiration'] == 'std', 'price'])\n",
    "turbo = np.array(stratified_aspiration.loc[stratified_aspiration.loc[:, 'aspiration'] == 'turbo', 'price'])\n",
    "test_aspiration = t_test(std, turbo, alpha = 0.05) # 95% confidence interval\n",
    "print(test_aspiration)\n",
    "plot_t(std, turbo, test_aspiration, ['std', 'turbo'])   "
   ]
  },
  {
   "cell_type": "code",
   "execution_count": null,
   "metadata": {},
   "outputs": [],
   "source": []
  },
  {
   "cell_type": "markdown",
   "metadata": {},
   "source": [
    "#### 2.3 Rear v.s. Front Wheel Type\n",
    "Null hypothesis for wheel type test would be: the wheel type won't impact auto price significantly. Examine the t-test results below and I find:\n",
    "1. Vehicles with rear wheel drive are priced, in average, about $3000 high than front wheeled drive car. I can't consider this price is significant large. \n",
    "2. P-value is 0.21. It is small but not small enough to reject the H0. \n",
    "3. rear wheeled vehicle type drop out of the 95 percentage confidence interval for the front wheeled drive cars. It provide us a good reason to reject the null hypothesis.\n",
    "\n",
    "##### <font color = 'red'> Conclusion: wheel type does make a difference in auto price. Normally rear wheel drive auto would raise the price. "
   ]
  },
  {
   "cell_type": "code",
   "execution_count": 180,
   "metadata": {},
   "outputs": [
    {
     "name": "stdout",
     "output_type": "stream",
     "text": [
      "number of rows for the stratefied sample is:  36\n",
      "              count          mean\n",
      "drive-wheels                     \n",
      "fwd              18   8821.166667\n",
      "rwd              18  19653.277778\n"
     ]
    },
    {
     "name": "stderr",
     "output_type": "stream",
     "text": [
      "c:\\users\\sduya\\appdata\\local\\programs\\python\\python37-32\\lib\\site-packages\\ipykernel_launcher.py:3: FutureWarning: 'drive-wheels' is both an index level and a column label.\n",
      "Defaulting to column, but this will raise an ambiguity error in a future version\n",
      "  This is separate from the ipykernel package so we can avoid doing imports until\n"
     ]
    }
   ],
   "source": [
    "## delete '4wd' categories, since we are not examing this type of vehicle\n",
    "my_df = my_df[my_df.loc[:, 'drive-wheels'] != '4wd']\n",
    "\n",
    "p = 0.1\n",
    "stratified_wheel = stratify(my_df, p, 'drive-wheels')\n",
    "print ('number of rows for the stratefied sample is: ', len(stratified_wheel))\n",
    "print (count_mean(stratified_wheel, 'drive-wheels'))"
   ]
  },
  {
   "cell_type": "code",
   "execution_count": 181,
   "metadata": {},
   "outputs": [
    {
     "name": "stdout",
     "output_type": "stream",
     "text": [
      "DegFreedom      30.523215\n",
      "Difference   -2923.842105\n",
      "Statistic       -1.253734\n",
      "PValue           0.218019\n",
      "Low95CI      -7683.217867\n",
      "High95CI      1835.533657\n",
      "dtype: float64\n"
     ]
    },
    {
     "data": {
      "image/png": "[encoded data removed]",
      "text/plain": [
       "<Figure size 432x288 with 2 Axes>"
      ]
     },
     "metadata": {},
     "output_type": "display_data"
    }
   ],
   "source": [
    "# front wheel drive\n",
    "fwd = np.array(stratified_wheel.loc[stratified_wheel.loc[:, 'drive-wheels'] == 'fwd', 'price']) \n",
    "# rear wheel drive\n",
    "rwd = np.array(stratified_wheel.loc[stratified_wheel.loc[:, 'drive-wheels'] == 'rwd', 'price'])\n",
    "stratified_wheel = t_test(std, turbo, alpha = 0.05) # 95% confidence interval\n",
    "print(stratified_wheel)\n",
    "plot_t(fwd, rwd, stratified_wheel, ['fwd', 'rwd'])   "
   ]
  },
  {
   "cell_type": "markdown",
   "metadata": {},
   "source": [
    "## Task 3. Apply ANOVA and Tukey's HSD test to the  log price \n",
    "The F statistic is fairly large and the p-value is very small! We can reject the null hypothesis that the five body type variables have the same mean, as the probability of the differences arising from random chance is quite low. \n",
    "\n",
    "Exam the John Tukey's Honest Significant Differences (HSD) plot below. There is a line with a dot shown for each variable. The dot is the mean and the line shows the range of the confidence interval for  that mean. If the difference in means is significant at the 95% confidence level, the confidence intervals will not overlap. \n",
    "##### <font color='red'> Conclusion: The hatchback type body is not overlay with hardtop, convertible, and sedan types. "
   ]
  },
  {
   "cell_type": "code",
   "execution_count": 182,
   "metadata": {},
   "outputs": [
    {
     "data": {
      "text/plain": [
       "sedan          89\n",
       "hatchback      62\n",
       "wagon          20\n",
       "hardtop         8\n",
       "convertible     6\n",
       "Name: body-style, dtype: int64"
      ]
     },
     "execution_count": 182,
     "metadata": {},
     "output_type": "execute_result"
    }
   ],
   "source": [
    "my_df['body-style'].value_counts()"
   ]
  },
  {
   "cell_type": "code",
   "execution_count": 184,
   "metadata": {},
   "outputs": [],
   "source": [
    "# make five types of auto body data ready\n",
    "sedan = np.array(my_df.loc[my_df.loc[:, 'body-style'] == 'sedan', 'price_log']) \n",
    "hatchback = np.array(my_df.loc[my_df.loc[:, 'body-style'] == 'hatchback', 'price_log']) \n",
    "wagon = np.array(my_df.loc[my_df.loc[:, 'body-style'] == 'wagon', 'price_log']) \n",
    "hardtop = np.array(my_df.loc[my_df.loc[:, 'body-style'] == 'hardtop', 'price_log']) \n",
    "convertible = np.array(my_df.loc[my_df.loc[:, 'body-style'] == 'convertible', 'price_log']) "
   ]
  },
  {
   "cell_type": "code",
   "execution_count": 185,
   "metadata": {},
   "outputs": [
    {
     "data": {
      "text/plain": [
       "Text(0.5,1,'Box Plot by Body Type')"
      ]
     },
     "execution_count": 185,
     "metadata": {},
     "output_type": "execute_result"
    },
    {
     "data": {
      "image/png": "[encoded data removed]",
      "text/plain": [
       "<Figure size 432x288 with 1 Axes>"
      ]
     },
     "metadata": {},
     "output_type": "display_data"
    }
   ],
   "source": [
    "plt.boxplot([sedan, hatchback, wagon, hardtop, convertible])\n",
    "plt.ylabel('Price Log')\n",
    "plt.xlabel('Body Type')\n",
    "plt.title('Box Plot by Body Type')"
   ]
  },
  {
   "cell_type": "code",
   "execution_count": 187,
   "metadata": {},
   "outputs": [
    {
     "name": "stdout",
     "output_type": "stream",
     "text": [
      "F statistic = 8.485220881930976\n",
      "P-value = 2.7049267597049833e-06\n"
     ]
    }
   ],
   "source": [
    "f_statistic, p_value = ss.f_oneway(sedan, hatchback, wagon, hardtop, convertible)\n",
    "print('F statistic = ' + str(f_statistic))\n",
    "print('P-value = ' + str(p_value))"
   ]
  },
  {
   "cell_type": "code",
   "execution_count": 191,
   "metadata": {},
   "outputs": [
    {
     "name": "stdout",
     "output_type": "stream",
     "text": [
      "  Multiple Comparison of Means - Tukey HSD,FWER=0.05 \n",
      "=====================================================\n",
      "   group1     group2  meandiff  lower   upper  reject\n",
      "-----------------------------------------------------\n",
      "convertible  hardtop  -0.0966  -0.8119  0.6186 False \n",
      "convertible hatchback -0.7826  -1.3489 -0.2164  True \n",
      "convertible   sedan   -0.4449  -1.0035  0.1137 False \n",
      "convertible   wagon   -0.4796  -1.0961  0.1368 False \n",
      "  hardtop   hatchback  -0.686  -1.1835 -0.1885  True \n",
      "  hardtop     sedan   -0.3483  -0.8371  0.1406 False \n",
      "  hardtop     wagon    -0.383   -0.937  0.1711 False \n",
      " hatchback    sedan    0.3377   0.1187  0.5568  True \n",
      " hatchback    wagon    0.303   -0.0375  0.6436 False \n",
      "   sedan      wagon   -0.0347  -0.3624  0.293  False \n",
      "-----------------------------------------------------\n"
     ]
    }
   ],
   "source": [
    "Tukey_HSD = pairwise_tukeyhsd(my_df['price_log'], my_df['body-style'])\n",
    "print(Tukey_HSD)"
   ]
  },
  {
   "cell_type": "code",
   "execution_count": 193,
   "metadata": {},
   "outputs": [
    {
     "data": {
      "image/png": "[encoded data removed]",
      "text/plain": [
       "<Figure size 720x432 with 1 Axes>"
      ]
     },
     "execution_count": 193,
     "metadata": {},
     "output_type": "execute_result"
    },
    {
     "data": {
      "image/png": "[encoded data removed]",
      "text/plain": [
       "<Figure size 720x432 with 1 Axes>"
      ]
     },
     "metadata": {},
     "output_type": "display_data"
    }
   ],
   "source": [
    "Tukey_HSD.plot_simultaneous()"
   ]
  },
  {
   "cell_type": "markdown",
   "metadata": {},
   "source": []
  },
  {
   "cell_type": "code",
   "execution_count": 196,
   "metadata": {},
   "outputs": [
    {
     "name": "stdout",
     "output_type": "stream",
     "text": [
      "Thanks for reviewing, keep warm from the snow days!\n"
     ]
    }
   ],
   "source": [
    "print ('Thanks for reviewing, keep warm from the snow days!')"
   ]
  }
 ],
 "metadata": {
  "kernelspec": {
   "display_name": "Python 3",
   "language": "python",
   "name": "python3"
  },
  "language_info": {
   "codemirror_mode": {
    "name": "ipython",
    "version": 3
   },
   "file_extension": ".py",
   "mimetype": "text/x-python",
   "name": "python",
   "nbconvert_exporter": "python",
   "pygments_lexer": "ipython3",
   "version": "3.7.0"
  }
 },
 "nbformat": 4,
 "nbformat_minor": 2
}
